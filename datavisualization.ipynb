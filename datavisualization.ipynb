{
 "cells": [
  {
   "cell_type": "code",
   "execution_count": 8,
   "metadata": {},
   "outputs": [],
   "source": [
    "import numpy as np\n",
    "import pandas as pd\n",
    "import os\n",
    "#from os import path\n",
    "from PIL import Image\n",
    "from wordcloud import WordCloud, STOPWORDS, ImageColorGenerator\n",
    "import matplotlib.pyplot as plt\n",
    "\n",
    "filepath = “C:\\Users\\Karthik\\Documents\\metoo”\n",
    "filename = “metoo_tweets_dec2017.csv”\n",
    "filePathFileName = filepath + “/” + filename\n",
    "outputFile=os.path.join(“'f'/Users/ayyagamv/Desktop/Tableau/Assignments/Capstone''/'filename'.csv”)\n",
    "df = pd.read_csv(filePathFileName)"
   ]
  },
  {
   "cell_type": "code",
   "execution_count": 9,
   "metadata": {},
   "outputs": [
    {
     "data": {
      "text/html": [
       "<div>\n",
       "<style scoped>\n",
       "    .dataframe tbody tr th:only-of-type {\n",
       "        vertical-align: middle;\n",
       "    }\n",
       "\n",
       "    .dataframe tbody tr th {\n",
       "        vertical-align: top;\n",
       "    }\n",
       "\n",
       "    .dataframe thead th {\n",
       "        text-align: right;\n",
       "    }\n",
       "</style>\n",
       "<table border=\"1\" class=\"dataframe\">\n",
       "  <thead>\n",
       "    <tr style=\"text-align: right;\">\n",
       "      <th></th>\n",
       "      <th>Unnamed: 0</th>\n",
       "      <th>text</th>\n",
       "      <th>favorited</th>\n",
       "      <th>favoriteCount</th>\n",
       "      <th>replyToSN</th>\n",
       "      <th>created</th>\n",
       "      <th>truncated</th>\n",
       "      <th>replyToSID</th>\n",
       "      <th>id</th>\n",
       "      <th>replyToUID</th>\n",
       "      <th>statusSource</th>\n",
       "      <th>screenName</th>\n",
       "      <th>retweetCount</th>\n",
       "      <th>isRetweet</th>\n",
       "      <th>retweeted</th>\n",
       "      <th>longitude</th>\n",
       "      <th>latitude</th>\n",
       "    </tr>\n",
       "  </thead>\n",
       "  <tbody>\n",
       "    <tr>\n",
       "      <td>0</td>\n",
       "      <td>1</td>\n",
       "      <td>American Harem.. #MeToo https://t.co/HjExLJdGuF</td>\n",
       "      <td>FALSE</td>\n",
       "      <td>0</td>\n",
       "      <td>NaN</td>\n",
       "      <td>11/29/17 23:59</td>\n",
       "      <td>FALSE</td>\n",
       "      <td>NaN</td>\n",
       "      <td>9.36e+17</td>\n",
       "      <td>NaN</td>\n",
       "      <td>&lt;a href=\"http://instagram.com\" rel=\"nofollow\"&gt;...</td>\n",
       "      <td>ahmediaTV</td>\n",
       "      <td>0</td>\n",
       "      <td>FALSE</td>\n",
       "      <td>FALSE</td>\n",
       "      <td>NaN</td>\n",
       "      <td>NaN</td>\n",
       "    </tr>\n",
       "    <tr>\n",
       "      <td>1</td>\n",
       "      <td>2</td>\n",
       "      <td>@johnconyersjr  @alfranken  why have you guys ...</td>\n",
       "      <td>FALSE</td>\n",
       "      <td>0</td>\n",
       "      <td>johnconyersjr</td>\n",
       "      <td>11/29/17 23:59</td>\n",
       "      <td>FALSE</td>\n",
       "      <td>NaN</td>\n",
       "      <td>9.36e+17</td>\n",
       "      <td>266149840</td>\n",
       "      <td>&lt;a href=\"http://twitter.com\" rel=\"nofollow\"&gt;Tw...</td>\n",
       "      <td>JesusPrepper74</td>\n",
       "      <td>0</td>\n",
       "      <td>FALSE</td>\n",
       "      <td>FALSE</td>\n",
       "      <td>NaN</td>\n",
       "      <td>NaN</td>\n",
       "    </tr>\n",
       "    <tr>\n",
       "      <td>2</td>\n",
       "      <td>3</td>\n",
       "      <td>Watched Megan Kelly ask Joe Keery this A.M. if...</td>\n",
       "      <td>FALSE</td>\n",
       "      <td>0</td>\n",
       "      <td>NaN</td>\n",
       "      <td>11/29/17 23:59</td>\n",
       "      <td>TRUE</td>\n",
       "      <td>NaN</td>\n",
       "      <td>9.36e+17</td>\n",
       "      <td>NaN</td>\n",
       "      <td>&lt;a href=\"http://twitter.com/download/android\" ...</td>\n",
       "      <td>DemerisePotvin</td>\n",
       "      <td>0</td>\n",
       "      <td>FALSE</td>\n",
       "      <td>FALSE</td>\n",
       "      <td>NaN</td>\n",
       "      <td>NaN</td>\n",
       "    </tr>\n",
       "    <tr>\n",
       "      <td>3</td>\n",
       "      <td>4</td>\n",
       "      <td>Women have been talking about this crap the en...</td>\n",
       "      <td>FALSE</td>\n",
       "      <td>0</td>\n",
       "      <td>NaN</td>\n",
       "      <td>11/29/17 23:59</td>\n",
       "      <td>FALSE</td>\n",
       "      <td>NaN</td>\n",
       "      <td>9.36e+17</td>\n",
       "      <td>NaN</td>\n",
       "      <td>&lt;a href=\"http://twitter.com\" rel=\"nofollow\"&gt;Tw...</td>\n",
       "      <td>TheDawnStott</td>\n",
       "      <td>0</td>\n",
       "      <td>FALSE</td>\n",
       "      <td>FALSE</td>\n",
       "      <td>NaN</td>\n",
       "      <td>NaN</td>\n",
       "    </tr>\n",
       "    <tr>\n",
       "      <td>4</td>\n",
       "      <td>5</td>\n",
       "      <td>.@BetteMidler please speak to this sexual assa...</td>\n",
       "      <td>FALSE</td>\n",
       "      <td>15</td>\n",
       "      <td>NaN</td>\n",
       "      <td>11/29/17 23:59</td>\n",
       "      <td>FALSE</td>\n",
       "      <td>NaN</td>\n",
       "      <td>9.36e+17</td>\n",
       "      <td>NaN</td>\n",
       "      <td>&lt;a href=\"http://twitter.com/#!/download/ipad\" ...</td>\n",
       "      <td>scottygirl2014</td>\n",
       "      <td>11</td>\n",
       "      <td>FALSE</td>\n",
       "      <td>FALSE</td>\n",
       "      <td>NaN</td>\n",
       "      <td>NaN</td>\n",
       "    </tr>\n",
       "  </tbody>\n",
       "</table>\n",
       "</div>"
      ],
      "text/plain": [
       "  Unnamed: 0                                               text favorited  \\\n",
       "0          1    American Harem.. #MeToo https://t.co/HjExLJdGuF     FALSE   \n",
       "1          2  @johnconyersjr  @alfranken  why have you guys ...     FALSE   \n",
       "2          3  Watched Megan Kelly ask Joe Keery this A.M. if...     FALSE   \n",
       "3          4  Women have been talking about this crap the en...     FALSE   \n",
       "4          5  .@BetteMidler please speak to this sexual assa...     FALSE   \n",
       "\n",
       "  favoriteCount      replyToSN         created truncated replyToSID        id  \\\n",
       "0             0            NaN  11/29/17 23:59     FALSE        NaN  9.36e+17   \n",
       "1             0  johnconyersjr  11/29/17 23:59     FALSE        NaN  9.36e+17   \n",
       "2             0            NaN  11/29/17 23:59      TRUE        NaN  9.36e+17   \n",
       "3             0            NaN  11/29/17 23:59     FALSE        NaN  9.36e+17   \n",
       "4            15            NaN  11/29/17 23:59     FALSE        NaN  9.36e+17   \n",
       "\n",
       "  replyToUID                                       statusSource  \\\n",
       "0        NaN  <a href=\"http://instagram.com\" rel=\"nofollow\">...   \n",
       "1  266149840  <a href=\"http://twitter.com\" rel=\"nofollow\">Tw...   \n",
       "2        NaN  <a href=\"http://twitter.com/download/android\" ...   \n",
       "3        NaN  <a href=\"http://twitter.com\" rel=\"nofollow\">Tw...   \n",
       "4        NaN  <a href=\"http://twitter.com/#!/download/ipad\" ...   \n",
       "\n",
       "       screenName retweetCount isRetweet retweeted longitude latitude  \n",
       "0       ahmediaTV            0     FALSE     FALSE       NaN      NaN  \n",
       "1  JesusPrepper74            0     FALSE     FALSE       NaN      NaN  \n",
       "2  DemerisePotvin            0     FALSE     FALSE       NaN      NaN  \n",
       "3    TheDawnStott            0     FALSE     FALSE       NaN      NaN  \n",
       "4  scottygirl2014           11     FALSE     FALSE       NaN      NaN  "
      ]
     },
     "execution_count": 9,
     "metadata": {},
     "output_type": "execute_result"
    }
   ],
   "source": [
    "data = pd.read_csv('metoo_tweets_dec2017.csv' , error_bad_lines=False, index_col=False, dtype='unicode')\n",
    "data.head()"
   ]
  },
  {
   "cell_type": "code",
   "execution_count": 10,
   "metadata": {},
   "outputs": [
    {
     "name": "stdout",
     "output_type": "stream",
     "text": [
      "<class 'pandas.core.frame.DataFrame'>\n",
      "RangeIndex: 393135 entries, 0 to 393134\n",
      "Data columns (total 17 columns):\n",
      "Unnamed: 0       393135 non-null object\n",
      "text             393135 non-null object\n",
      "favorited        393135 non-null object\n",
      "favoriteCount    393132 non-null object\n",
      "replyToSN        49719 non-null object\n",
      "created          393135 non-null object\n",
      "truncated        393132 non-null object\n",
      "replyToSID       41908 non-null object\n",
      "id               393132 non-null object\n",
      "replyToUID       49721 non-null object\n",
      "statusSource     393132 non-null object\n",
      "screenName       393135 non-null object\n",
      "retweetCount     393135 non-null object\n",
      "isRetweet        393135 non-null object\n",
      "retweeted        393132 non-null object\n",
      "longitude        123 non-null object\n",
      "latitude         123 non-null object\n",
      "dtypes: object(17)\n",
      "memory usage: 51.0+ MB\n"
     ]
    }
   ],
   "source": [
    "data.info()"
   ]
  },
  {
   "cell_type": "code",
   "execution_count": 13,
   "metadata": {},
   "outputs": [
    {
     "data": {
      "text/plain": [
       "Index(['Unnamed: 0', 'text', 'favorited', 'favoriteCount', 'replyToSN',\n",
       "       'created', 'truncated', 'replyToSID', 'id', 'replyToUID',\n",
       "       'statusSource', 'screenName', 'retweetCount', 'isRetweet', 'retweeted',\n",
       "       'longitude', 'latitude'],\n",
       "      dtype='object')"
      ]
     },
     "execution_count": 13,
     "metadata": {},
     "output_type": "execute_result"
    }
   ],
   "source": [
    "data.columns"
   ]
  },
  {
   "cell_type": "code",
   "execution_count": 14,
   "metadata": {},
   "outputs": [
    {
     "data": {
      "text/plain": [
       "(393135, 17)"
      ]
     },
     "execution_count": 14,
     "metadata": {},
     "output_type": "execute_result"
    }
   ],
   "source": [
    "data.shape"
   ]
  },
  {
   "cell_type": "code",
   "execution_count": 15,
   "metadata": {},
   "outputs": [
    {
     "data": {
      "text/plain": [
       "<bound method DataFrame.info of        Unnamed: 0                                               text  \\\n",
       "0               1    American Harem.. #MeToo https://t.co/HjExLJdGuF   \n",
       "1               2  @johnconyersjr  @alfranken  why have you guys ...   \n",
       "2               3  Watched Megan Kelly ask Joe Keery this A.M. if...   \n",
       "3               4  Women have been talking about this crap the en...   \n",
       "4               5  .@BetteMidler please speak to this sexual assa...   \n",
       "...           ...                                                ...   \n",
       "393130     393131  RT @Suffragentleman: You can only choose one.....   \n",
       "393131     393132  #MeToo, say victims of sexual harassment in Ja...   \n",
       "393132     393133  Susan Collins tries to #MeToo her way out of h...   \n",
       "393133     393134  RT @OneMillionVjj: Punish those who choose not...   \n",
       "393134     393135  Chief Justice John Roberts orders misconduct r...   \n",
       "\n",
       "       favorited favoriteCount      replyToSN         created truncated  \\\n",
       "0          FALSE             0            NaN  11/29/17 23:59     FALSE   \n",
       "1          FALSE             0  johnconyersjr  11/29/17 23:59     FALSE   \n",
       "2          FALSE             0            NaN  11/29/17 23:59      TRUE   \n",
       "3          FALSE             0            NaN  11/29/17 23:59     FALSE   \n",
       "4          FALSE            15            NaN  11/29/17 23:59     FALSE   \n",
       "...          ...           ...            ...             ...       ...   \n",
       "393130     FALSE             0            NaN   12/25/17 0:00     FALSE   \n",
       "393131     FALSE             0            NaN   12/25/17 0:00     FALSE   \n",
       "393132     FALSE             0            NaN   12/25/17 0:00     FALSE   \n",
       "393133     FALSE             0            NaN   12/25/17 0:00     FALSE   \n",
       "393134     FALSE             3            NaN   12/25/17 0:00     FALSE   \n",
       "\n",
       "       replyToSID           id replyToUID  \\\n",
       "0             NaN     9.36e+17        NaN   \n",
       "1             NaN     9.36e+17  266149840   \n",
       "2             NaN     9.36e+17        NaN   \n",
       "3             NaN     9.36e+17        NaN   \n",
       "4             NaN     9.36e+17        NaN   \n",
       "...           ...          ...        ...   \n",
       "393130        NaN  9.45082e+17        NaN   \n",
       "393131        NaN  9.45082e+17        NaN   \n",
       "393132        NaN  9.45082e+17        NaN   \n",
       "393133        NaN  9.45082e+17        NaN   \n",
       "393134        NaN  9.45082e+17        NaN   \n",
       "\n",
       "                                             statusSource      screenName  \\\n",
       "0       <a href=\"http://instagram.com\" rel=\"nofollow\">...       ahmediaTV   \n",
       "1       <a href=\"http://twitter.com\" rel=\"nofollow\">Tw...  JesusPrepper74   \n",
       "2       <a href=\"http://twitter.com/download/android\" ...  DemerisePotvin   \n",
       "3       <a href=\"http://twitter.com\" rel=\"nofollow\">Tw...    TheDawnStott   \n",
       "4       <a href=\"http://twitter.com/#!/download/ipad\" ...  scottygirl2014   \n",
       "...                                                   ...             ...   \n",
       "393130  <a href=\"http://twitter.com/download/android\" ...      boaomega22   \n",
       "393131  <a href=\"http://bufferapp.com\" rel=\"nofollow\">...  April_Magazine   \n",
       "393132  <a href=\"http://twitter.com\" rel=\"nofollow\">Tw...        Noofer55   \n",
       "393133  <a href=\"http://twitter.com\" rel=\"nofollow\">Tw...          ZBezzt   \n",
       "393134  <a href=\"http://twitter.com\" rel=\"nofollow\">Tw...        pewdrdad   \n",
       "\n",
       "       retweetCount isRetweet retweeted longitude latitude  \n",
       "0                 0     FALSE     FALSE       NaN      NaN  \n",
       "1                 0     FALSE     FALSE       NaN      NaN  \n",
       "2                 0     FALSE     FALSE       NaN      NaN  \n",
       "3                 0     FALSE     FALSE       NaN      NaN  \n",
       "4                11     FALSE     FALSE       NaN      NaN  \n",
       "...             ...       ...       ...       ...      ...  \n",
       "393130          616      TRUE     FALSE       NaN      NaN  \n",
       "393131            0     FALSE     FALSE       NaN      NaN  \n",
       "393132            0     FALSE     FALSE       NaN      NaN  \n",
       "393133            5      TRUE     FALSE       NaN      NaN  \n",
       "393134            3     FALSE     FALSE       NaN      NaN  \n",
       "\n",
       "[393135 rows x 17 columns]>"
      ]
     },
     "execution_count": 15,
     "metadata": {},
     "output_type": "execute_result"
    }
   ],
   "source": [
    "data.info"
   ]
  },
  {
   "cell_type": "code",
   "execution_count": 23,
   "metadata": {},
   "outputs": [],
   "source": [
    "index = data.index\n",
    "columns = data.columns\n",
    "values = data.values"
   ]
  },
  {
   "cell_type": "code",
   "execution_count": 24,
   "metadata": {},
   "outputs": [
    {
     "data": {
      "text/plain": [
       "RangeIndex(start=0, stop=393135, step=1)"
      ]
     },
     "execution_count": 24,
     "metadata": {},
     "output_type": "execute_result"
    }
   ],
   "source": [
    "index"
   ]
  },
  {
   "cell_type": "code",
   "execution_count": 25,
   "metadata": {},
   "outputs": [
    {
     "data": {
      "text/plain": [
       "Index(['Unnamed: 0', 'text', 'favorited', 'favoriteCount', 'replyToSN',\n",
       "       'created', 'truncated', 'replyToSID', 'id', 'replyToUID',\n",
       "       'statusSource', 'screenName', 'retweetCount', 'isRetweet', 'retweeted',\n",
       "       'longitude', 'latitude'],\n",
       "      dtype='object')"
      ]
     },
     "execution_count": 25,
     "metadata": {},
     "output_type": "execute_result"
    }
   ],
   "source": [
    "columns"
   ]
  },
  {
   "cell_type": "code",
   "execution_count": 26,
   "metadata": {},
   "outputs": [
    {
     "data": {
      "text/plain": [
       "array([['1', 'American Harem.. #MeToo https://t.co/HjExLJdGuF', 'FALSE',\n",
       "        ..., 'FALSE', nan, nan],\n",
       "       ['2',\n",
       "        '@johnconyersjr  @alfranken  why have you guys not resigned yet? Liberal hypocrisy! #MeToo',\n",
       "        'FALSE', ..., 'FALSE', nan, nan],\n",
       "       ['3',\n",
       "        'Watched Megan Kelly ask Joe Keery this A.M. if she can \"rub my fingers through your hair\", and refer to his body be https://t.co/Q86wfW7DeJ',\n",
       "        'FALSE', ..., 'FALSE', nan, nan],\n",
       "       ...,\n",
       "       ['393133',\n",
       "        'Susan Collins tries to #MeToo her way out of her tax bill debacle https://t.co/qwJ0LYNiec',\n",
       "        'FALSE', ..., 'FALSE', nan, nan],\n",
       "       ['393134',\n",
       "        'RT @OneMillionVjj: Punish those who choose not to.\\r\\r#Consent #MeToo https://t.co/A4z7cKJMCs',\n",
       "        'FALSE', ..., 'FALSE', nan, nan],\n",
       "       ['393135',\n",
       "        'Chief Justice John Roberts orders misconduct review as #MeToo reaches federal courts https://t.co/vWkyneTbZe',\n",
       "        'FALSE', ..., 'FALSE', nan, nan]], dtype=object)"
      ]
     },
     "execution_count": 26,
     "metadata": {},
     "output_type": "execute_result"
    }
   ],
   "source": [
    "values"
   ]
  },
  {
   "cell_type": "code",
   "execution_count": 27,
   "metadata": {},
   "outputs": [
    {
     "data": {
      "text/plain": [
       "pandas.core.indexes.range.RangeIndex"
      ]
     },
     "execution_count": 27,
     "metadata": {},
     "output_type": "execute_result"
    }
   ],
   "source": [
    "type(index)"
   ]
  },
  {
   "cell_type": "code",
   "execution_count": 28,
   "metadata": {},
   "outputs": [
    {
     "data": {
      "text/plain": [
       "pandas.core.indexes.base.Index"
      ]
     },
     "execution_count": 28,
     "metadata": {},
     "output_type": "execute_result"
    }
   ],
   "source": [
    "type(columns)"
   ]
  },
  {
   "cell_type": "code",
   "execution_count": 29,
   "metadata": {},
   "outputs": [
    {
     "data": {
      "text/plain": [
       "numpy.ndarray"
      ]
     },
     "execution_count": 29,
     "metadata": {},
     "output_type": "execute_result"
    }
   ],
   "source": [
    "type(values)"
   ]
  },
  {
   "cell_type": "code",
   "execution_count": 30,
   "metadata": {},
   "outputs": [
    {
     "data": {
      "text/plain": [
       "0           American Harem.. #MeToo https://t.co/HjExLJdGuF\n",
       "1         @johnconyersjr  @alfranken  why have you guys ...\n",
       "2         Watched Megan Kelly ask Joe Keery this A.M. if...\n",
       "3         Women have been talking about this crap the en...\n",
       "4         .@BetteMidler please speak to this sexual assa...\n",
       "                                ...                        \n",
       "393130    RT @Suffragentleman: You can only choose one.....\n",
       "393131    #MeToo, say victims of sexual harassment in Ja...\n",
       "393132    Susan Collins tries to #MeToo her way out of h...\n",
       "393133    RT @OneMillionVjj: Punish those who choose not...\n",
       "393134    Chief Justice John Roberts orders misconduct r...\n",
       "Name: text, Length: 393135, dtype: object"
      ]
     },
     "execution_count": 30,
     "metadata": {},
     "output_type": "execute_result"
    }
   ],
   "source": [
    "data['text']"
   ]
  },
  {
   "cell_type": "code",
   "execution_count": 31,
   "metadata": {},
   "outputs": [
    {
     "data": {
      "text/html": [
       "<div>\n",
       "<style scoped>\n",
       "    .dataframe tbody tr th:only-of-type {\n",
       "        vertical-align: middle;\n",
       "    }\n",
       "\n",
       "    .dataframe tbody tr th {\n",
       "        vertical-align: top;\n",
       "    }\n",
       "\n",
       "    .dataframe thead th {\n",
       "        text-align: right;\n",
       "    }\n",
       "</style>\n",
       "<table border=\"1\" class=\"dataframe\">\n",
       "  <thead>\n",
       "    <tr style=\"text-align: right;\">\n",
       "      <th></th>\n",
       "      <th>text</th>\n",
       "      <th>screenName</th>\n",
       "      <th>statusSource</th>\n",
       "    </tr>\n",
       "  </thead>\n",
       "  <tbody>\n",
       "    <tr>\n",
       "      <td>0</td>\n",
       "      <td>American Harem.. #MeToo https://t.co/HjExLJdGuF</td>\n",
       "      <td>ahmediaTV</td>\n",
       "      <td>&lt;a href=\"http://instagram.com\" rel=\"nofollow\"&gt;...</td>\n",
       "    </tr>\n",
       "    <tr>\n",
       "      <td>1</td>\n",
       "      <td>@johnconyersjr  @alfranken  why have you guys ...</td>\n",
       "      <td>JesusPrepper74</td>\n",
       "      <td>&lt;a href=\"http://twitter.com\" rel=\"nofollow\"&gt;Tw...</td>\n",
       "    </tr>\n",
       "    <tr>\n",
       "      <td>2</td>\n",
       "      <td>Watched Megan Kelly ask Joe Keery this A.M. if...</td>\n",
       "      <td>DemerisePotvin</td>\n",
       "      <td>&lt;a href=\"http://twitter.com/download/android\" ...</td>\n",
       "    </tr>\n",
       "    <tr>\n",
       "      <td>3</td>\n",
       "      <td>Women have been talking about this crap the en...</td>\n",
       "      <td>TheDawnStott</td>\n",
       "      <td>&lt;a href=\"http://twitter.com\" rel=\"nofollow\"&gt;Tw...</td>\n",
       "    </tr>\n",
       "    <tr>\n",
       "      <td>4</td>\n",
       "      <td>.@BetteMidler please speak to this sexual assa...</td>\n",
       "      <td>scottygirl2014</td>\n",
       "      <td>&lt;a href=\"http://twitter.com/#!/download/ipad\" ...</td>\n",
       "    </tr>\n",
       "    <tr>\n",
       "      <td>...</td>\n",
       "      <td>...</td>\n",
       "      <td>...</td>\n",
       "      <td>...</td>\n",
       "    </tr>\n",
       "    <tr>\n",
       "      <td>393130</td>\n",
       "      <td>RT @Suffragentleman: You can only choose one.....</td>\n",
       "      <td>boaomega22</td>\n",
       "      <td>&lt;a href=\"http://twitter.com/download/android\" ...</td>\n",
       "    </tr>\n",
       "    <tr>\n",
       "      <td>393131</td>\n",
       "      <td>#MeToo, say victims of sexual harassment in Ja...</td>\n",
       "      <td>April_Magazine</td>\n",
       "      <td>&lt;a href=\"http://bufferapp.com\" rel=\"nofollow\"&gt;...</td>\n",
       "    </tr>\n",
       "    <tr>\n",
       "      <td>393132</td>\n",
       "      <td>Susan Collins tries to #MeToo her way out of h...</td>\n",
       "      <td>Noofer55</td>\n",
       "      <td>&lt;a href=\"http://twitter.com\" rel=\"nofollow\"&gt;Tw...</td>\n",
       "    </tr>\n",
       "    <tr>\n",
       "      <td>393133</td>\n",
       "      <td>RT @OneMillionVjj: Punish those who choose not...</td>\n",
       "      <td>ZBezzt</td>\n",
       "      <td>&lt;a href=\"http://twitter.com\" rel=\"nofollow\"&gt;Tw...</td>\n",
       "    </tr>\n",
       "    <tr>\n",
       "      <td>393134</td>\n",
       "      <td>Chief Justice John Roberts orders misconduct r...</td>\n",
       "      <td>pewdrdad</td>\n",
       "      <td>&lt;a href=\"http://twitter.com\" rel=\"nofollow\"&gt;Tw...</td>\n",
       "    </tr>\n",
       "  </tbody>\n",
       "</table>\n",
       "<p>393135 rows × 3 columns</p>\n",
       "</div>"
      ],
      "text/plain": [
       "                                                     text      screenName  \\\n",
       "0         American Harem.. #MeToo https://t.co/HjExLJdGuF       ahmediaTV   \n",
       "1       @johnconyersjr  @alfranken  why have you guys ...  JesusPrepper74   \n",
       "2       Watched Megan Kelly ask Joe Keery this A.M. if...  DemerisePotvin   \n",
       "3       Women have been talking about this crap the en...    TheDawnStott   \n",
       "4       .@BetteMidler please speak to this sexual assa...  scottygirl2014   \n",
       "...                                                   ...             ...   \n",
       "393130  RT @Suffragentleman: You can only choose one.....      boaomega22   \n",
       "393131  #MeToo, say victims of sexual harassment in Ja...  April_Magazine   \n",
       "393132  Susan Collins tries to #MeToo her way out of h...        Noofer55   \n",
       "393133  RT @OneMillionVjj: Punish those who choose not...          ZBezzt   \n",
       "393134  Chief Justice John Roberts orders misconduct r...        pewdrdad   \n",
       "\n",
       "                                             statusSource  \n",
       "0       <a href=\"http://instagram.com\" rel=\"nofollow\">...  \n",
       "1       <a href=\"http://twitter.com\" rel=\"nofollow\">Tw...  \n",
       "2       <a href=\"http://twitter.com/download/android\" ...  \n",
       "3       <a href=\"http://twitter.com\" rel=\"nofollow\">Tw...  \n",
       "4       <a href=\"http://twitter.com/#!/download/ipad\" ...  \n",
       "...                                                   ...  \n",
       "393130  <a href=\"http://twitter.com/download/android\" ...  \n",
       "393131  <a href=\"http://bufferapp.com\" rel=\"nofollow\">...  \n",
       "393132  <a href=\"http://twitter.com\" rel=\"nofollow\">Tw...  \n",
       "393133  <a href=\"http://twitter.com\" rel=\"nofollow\">Tw...  \n",
       "393134  <a href=\"http://twitter.com\" rel=\"nofollow\">Tw...  \n",
       "\n",
       "[393135 rows x 3 columns]"
      ]
     },
     "execution_count": 31,
     "metadata": {},
     "output_type": "execute_result"
    }
   ],
   "source": [
    "data[['text','screenName','statusSource']]"
   ]
  },
  {
   "cell_type": "code",
   "execution_count": null,
   "metadata": {},
   "outputs": [],
   "source": []
  }
 ],
 "metadata": {
  "kernelspec": {
   "display_name": "Python 3",
   "language": "python",
   "name": "python3"
  },
  "language_info": {
   "codemirror_mode": {
    "name": "ipython",
    "version": 3
   },
   "file_extension": ".py",
   "mimetype": "text/x-python",
   "name": "python",
   "nbconvert_exporter": "python",
   "pygments_lexer": "ipython3",
   "version": "3.7.4"
  }
 },
 "nbformat": 4,
 "nbformat_minor": 2
}
